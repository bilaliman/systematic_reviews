{
 "cells": [
  {
   "cell_type": "code",
   "execution_count": 1,
   "metadata": {},
   "outputs": [],
   "source": [
    "import os\n",
    "import re\n",
    "import pandas as pd\n",
    "from collections import defaultdict\n",
    "from extract import extract_relevant_content"
   ]
  },
  {
   "cell_type": "code",
   "execution_count": 2,
   "metadata": {},
   "outputs": [
    {
     "data": {
      "text/html": [
       "<div>\n",
       "<style scoped>\n",
       "    .dataframe tbody tr th:only-of-type {\n",
       "        vertical-align: middle;\n",
       "    }\n",
       "\n",
       "    .dataframe tbody tr th {\n",
       "        vertical-align: top;\n",
       "    }\n",
       "\n",
       "    .dataframe thead th {\n",
       "        text-align: right;\n",
       "    }\n",
       "</style>\n",
       "<table border=\"1\" class=\"dataframe\">\n",
       "  <thead>\n",
       "    <tr style=\"text-align: right;\">\n",
       "      <th></th>\n",
       "      <th>Paper</th>\n",
       "      <th>Study design</th>\n",
       "      <th>Target population</th>\n",
       "      <th>Financial detail/costs</th>\n",
       "      <th>Person-level outcomes</th>\n",
       "    </tr>\n",
       "  </thead>\n",
       "  <tbody>\n",
       "    <tr>\n",
       "      <th>0</th>\n",
       "      <td>#2598</td>\n",
       "      <td>This study used a sequential explanatory equal...</td>\n",
       "      <td>family- and center-based child care programs. ...</td>\n",
       "      <td>Five of the eight center directors not affilia...</td>\n",
       "      <td></td>\n",
       "    </tr>\n",
       "    <tr>\n",
       "      <th>1</th>\n",
       "      <td>#17192</td>\n",
       "      <td></td>\n",
       "      <td></td>\n",
       "      <td></td>\n",
       "      <td>Of those 325 children, 59% (58.77%) were consi...</td>\n",
       "    </tr>\n",
       "    <tr>\n",
       "      <th>2</th>\n",
       "      <td>#17247</td>\n",
       "      <td>bringing together the findings from interviews...</td>\n",
       "      <td>Indigenous Asháninka people of the Ene River i...</td>\n",
       "      <td>OUTCOME FUNDS (USD) $110,000 // PAYMENT SCHEDU...</td>\n",
       "      <td>Results per outcome metric: 1) 75% of target a...</td>\n",
       "    </tr>\n",
       "    <tr>\n",
       "      <th>3</th>\n",
       "      <td>#17284</td>\n",
       "      <td>We show, through three ECE case studies, how U...</td>\n",
       "      <td>3,500 students in Salt Lake City // 2,618 new ...</td>\n",
       "      <td>In the SIB contract, success payments are expe...</td>\n",
       "      <td>In the first cohort, 595 students attended pre...</td>\n",
       "    </tr>\n",
       "    <tr>\n",
       "      <th>4</th>\n",
       "      <td>#17725</td>\n",
       "      <td></td>\n",
       "      <td></td>\n",
       "      <td></td>\n",
       "      <td>Outcome 1: Learning gains\\nBy the end of Year ...</td>\n",
       "    </tr>\n",
       "    <tr>\n",
       "      <th>5</th>\n",
       "      <td>#17755</td>\n",
       "      <td>The focus of the evaluation is the DIBs fundin...</td>\n",
       "      <td>more than 300,000 primary school aged children...</td>\n",
       "      <td>Up to CHF 26.09 million of outcome payments wi...</td>\n",
       "      <td></td>\n",
       "    </tr>\n",
       "  </tbody>\n",
       "</table>\n",
       "</div>"
      ],
      "text/plain": [
       "    Paper                                       Study design  \\\n",
       "0   #2598  This study used a sequential explanatory equal...   \n",
       "1  #17192                                                      \n",
       "2  #17247  bringing together the findings from interviews...   \n",
       "3  #17284  We show, through three ECE case studies, how U...   \n",
       "4  #17725                                                      \n",
       "5  #17755  The focus of the evaluation is the DIBs fundin...   \n",
       "\n",
       "                                   Target population  \\\n",
       "0  family- and center-based child care programs. ...   \n",
       "1                                                      \n",
       "2  Indigenous Asháninka people of the Ene River i...   \n",
       "3  3,500 students in Salt Lake City // 2,618 new ...   \n",
       "4                                                      \n",
       "5  more than 300,000 primary school aged children...   \n",
       "\n",
       "                              Financial detail/costs  \\\n",
       "0  Five of the eight center directors not affilia...   \n",
       "1                                                      \n",
       "2  OUTCOME FUNDS (USD) $110,000 // PAYMENT SCHEDU...   \n",
       "3  In the SIB contract, success payments are expe...   \n",
       "4                                                      \n",
       "5  Up to CHF 26.09 million of outcome payments wi...   \n",
       "\n",
       "                               Person-level outcomes  \n",
       "0                                                     \n",
       "1  Of those 325 children, 59% (58.77%) were consi...  \n",
       "2  Results per outcome metric: 1) 75% of target a...  \n",
       "3  In the first cohort, 595 students attended pre...  \n",
       "4  Outcome 1: Learning gains\\nBy the end of Year ...  \n",
       "5                                                     "
      ]
     },
     "execution_count": 2,
     "metadata": {},
     "output_type": "execute_result"
    }
   ],
   "source": [
    "gold_standard_df = pd.read_excel('./gold standard.xlsx', index_col=None)  \n",
    "gold_standard_df = gold_standard_df.fillna(\"\")\n",
    "gold_standard_df"
   ]
  },
  {
   "cell_type": "code",
   "execution_count": 3,
   "metadata": {},
   "outputs": [],
   "source": [
    "target_papers = [\"#2598\", \"#17192\", \"#17247\", \"#17284\", \"#17725\", \"#17755\"]"
   ]
  },
  {
   "cell_type": "code",
   "execution_count": 4,
   "metadata": {},
   "outputs": [],
   "source": [
    "from collections import defaultdict\n",
    "gold_standard = defaultdict(dict)\n",
    "for i, row in gold_standard_df.iterrows():\n",
    "    paper = row[\"Paper\"]\n",
    "    sd = [sample.strip() for sample in row[\"Study design\"].split(\"//\")]\n",
    "    tp = [sample.strip() for sample in row[\"Target population\"].split(\"//\")]\n",
    "    fd = [sample.strip() for sample in row[\"Financial detail/costs\"].split(\"//\")]\n",
    "    po = [sample.strip() for sample in row[\"Person-level outcomes\"].split(\"//\")]\n",
    "    gold_standard[\"Study Design\"][paper] = sd\n",
    "    gold_standard[\"Target Population\"][paper] = tp\n",
    "    gold_standard[\"Financial detail and costs\"][paper] = fd\n",
    "    gold_standard[\"Person-level outcomes\"][paper] = po"
   ]
  },
  {
   "cell_type": "code",
   "execution_count": 5,
   "metadata": {},
   "outputs": [
    {
     "name": "stdout",
     "output_type": "stream",
     "text": [
      "../data/samples/#17755 - Ecorys 2019.pdf #17755\n",
      "657742 -1 657971\n",
      "Avg paragraph length:  122.428\n",
      "5250\n",
      "../data/samples/#2598 - Lee 2020.pdf #2598\n",
      "96504 -1 110368\n",
      "Avg paragraph length:  274.6034482758621\n",
      "348\n",
      "../data/samples/#17284 - Warner 2018.pdf #17284\n",
      "56317 -1 70715\n",
      "Avg paragraph length:  307.010989010989\n",
      "182\n",
      "../data/samples/#17725 - IDinsight 2018.pdf #17725\n",
      "28878 29441 59124\n",
      "Avg paragraph length:  239.8728813559322\n",
      "118\n",
      "Avg paragraph length:  29.298992161254198\n",
      "893\n",
      "../data/samples/#17247 - Brookings 2017.pdf #17247\n",
      "103219 -1 290474\n",
      "Avg paragraph length:  164.2778675282714\n",
      "619\n",
      "../data/samples/#17192 - Education 2016 (1).pdf #17192\n",
      "44998 51396 106565\n",
      "Avg paragraph length:  84.10384615384615\n",
      "520\n",
      "Avg paragraph length:  107.04970178926442\n",
      "503\n"
     ]
    }
   ],
   "source": [
    "path = \"../data/samples\"\n",
    "articles = defaultdict(list)\n",
    "for f in os.listdir(path):\n",
    "    if f[0] == \".\":\n",
    "        continue\n",
    "    id_ = f.split(\"-\")[0].strip()\n",
    "    print(os.path.join(path, f), id_)\n",
    "    passages = extract_relevant_content(os.path.join(path,f))\n",
    "    passages = [passage for passage in passages if len(passage.split()) <= 300 and len(passage.split()) > 10]\n",
    "    # for finicial target\n",
    "    # passages = [passage for passage in passages if len(passage.split()) <= 300 and len(passage.split()) > 10 and (re.search(\"[£$]\\d+\", passage) or re.search(\"\\d,\\d\\d\\d\", passage) or re.search(\"\\d+(k|mil|%)\", passage))]\n",
    "    articles[id_].extend(passages)"
   ]
  },
  {
   "cell_type": "code",
   "execution_count": 15,
   "metadata": {},
   "outputs": [
    {
     "data": {
      "text/plain": [
       "True"
      ]
     },
     "execution_count": 15,
     "metadata": {},
     "output_type": "execute_result"
    }
   ],
   "source": [
    "# we assume two sentences overlap if they satisified the following contditions: \n",
    "# 1) 50% of sent1 overlaps with sent2 \n",
    "# or \n",
    "# 2) 50% of sent2 overlaps with sent1\n",
    "def isOverlap(input_text, gold_text):\n",
    "    A = input_text.lower().strip().split()\n",
    "    B = gold_text.lower().strip().split()\n",
    "    n = len(A)\n",
    "    m = len(B)\n",
    " \n",
    "    # Auxiliary dp[][] array\n",
    "    dp = [[0 for i in range(m + 1)] for i in range(n + 1)]\n",
    " \n",
    "    # Updating the dp[][] table\n",
    "    # in Bottom Up approach\n",
    "    for i in range(n - 1, -1, -1):\n",
    "        for j in range(m - 1, -1, -1):\n",
    " \n",
    "            # If A[i] is equal to B[i]\n",
    "            # then dp[j][i] = dp[j + 1][i + 1] + 1\n",
    "            if A[i] == B[j]:\n",
    "                dp[i][j] = dp[i + 1][j + 1] + 1\n",
    "    maxm = 0\n",
    "    # Find maximum of all the values\n",
    "    # in dp[][] array to get the\n",
    "    # maximum length\n",
    "    for i in dp:\n",
    "        for j in i:\n",
    "            # Update the length\n",
    "            maxm = max(maxm, j)\n",
    " \n",
    "\n",
    "    if maxm/n >= 0.5:\n",
    "        return True\n",
    "    elif maxm/m >= 0.5:\n",
    "        return True\n",
    "    else:\n",
    "        return False\n",
    "\n",
    "isOverlap(\"this is a test\", \"this is a test right\")"
   ]
  },
  {
   "cell_type": "code",
   "execution_count": 17,
   "metadata": {},
   "outputs": [
    {
     "name": "stdout",
     "output_type": "stream",
     "text": [
      "#17284 1.0\n",
      "#17725 1.0\n",
      "#17247 0.0\n",
      "#17192 1.0\n"
     ]
    }
   ],
   "source": [
    "question_type = \"Person-level outcomes\"\n",
    "for id_ in articles:\n",
    "    gold = gold_standard[question_type][id_]\n",
    "    if gold == [\"\"]:\n",
    "        continue\n",
    "    count = 0\n",
    "    for g in gold:\n",
    "#         print(id_ + \" Gold:\\n\", g)\n",
    "        exist = False\n",
    "        for passage in articles[id_]:\n",
    "            if isOverlap(passage, g):\n",
    "                count += 1\n",
    "                exist = True\n",
    "#                 print(\"Passage:\\n\", passage)\n",
    "                break\n",
    "#         if not exist:\n",
    "#             print(\"Passage: \\nNone\",)\n",
    "#         print(\"\\n***********\\n\")\n",
    "    print(id_ + \" \" + str(count/len(gold)))"
   ]
  },
  {
   "cell_type": "code",
   "execution_count": 20,
   "metadata": {},
   "outputs": [
    {
     "data": {
      "text/plain": [
       "['In the first cohort, 595 students attended preschool, 110 were deemed at-risk, but only one actually used special education in kindergarten (United Way of Salt Lake, 2015).']"
      ]
     },
     "execution_count": 20,
     "metadata": {},
     "output_type": "execute_result"
    }
   ],
   "source": [
    "gold_standard[question_type][\"#17247\"]"
   ]
  },
  {
   "cell_type": "code",
   "execution_count": 26,
   "metadata": {},
   "outputs": [
    {
     "data": {
      "text/plain": [
       "'impact bonds in developing countries: early learnings from the field 2 | impact bonds in developing countries impact bonds in developing countries: early learnings from the field september 2017 emily gustafsson-wright is a fellow at the center for universal education at brookings izzy boggild-jones is a research analyst at the center for universal education at brookings dean segell is a manager at convergence justice durland is a knowledge associate at convergence acknowledgements the authors would like to thank many people for their contributions to this study. first, alison bukhari, toby eccles, safeena husain, jane newman, peter vanderwal and maya ziswiler for their helpful comments, feedback and insight on earlier drafts of the report. in addition, we would like to thank all those who supported with data collection for the deal book, and provided real time updates on the factsheets for each deal. we would also like to acknowledge those who participated in the impact bonds workshop in london in november 2016, whose valuable insights have formed the core of this report. we are particularly grateful for the contributions of stakeholders involved in the contracted impact bonds with whom we have had more in-depth conversations over the last several years.'"
      ]
     },
     "execution_count": 26,
     "metadata": {},
     "output_type": "execute_result"
    }
   ],
   "source": [
    "articles[\"#17247\"][0]\n",
    "re.sub(\"\\s*\\n\\s*\", \" \", articles[\"#17247\"][0]).lower().strip()\n",
    "# gold_standard[question_type][\"#17247\"]"
   ]
  },
  {
   "cell_type": "code",
   "execution_count": null,
   "metadata": {},
   "outputs": [],
   "source": []
  }
 ],
 "metadata": {
  "kernelspec": {
   "display_name": "Python 3",
   "language": "python",
   "name": "python3"
  },
  "language_info": {
   "codemirror_mode": {
    "name": "ipython",
    "version": 3
   },
   "file_extension": ".py",
   "mimetype": "text/x-python",
   "name": "python",
   "nbconvert_exporter": "python",
   "pygments_lexer": "ipython3",
   "version": "3.8.5"
  }
 },
 "nbformat": 4,
 "nbformat_minor": 4
}
